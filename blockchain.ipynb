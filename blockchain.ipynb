{
 "cells": [
  {
   "cell_type": "code",
   "execution_count": 1,
   "metadata": {},
   "outputs": [],
   "source": [
    "# we will need to create a transaction pool of incoming transactions, validate those transactions, and make them into a block\n",
    "import hashlib, json, sys\n",
    "\n",
    "def hashMe(msg=\"\"):\n",
    "    # For convenience, this is a helper function that wraps our hashing algorithm\n",
    "    if type(msg)!= str:\n",
    "        msg = json.dumps(msg, sort_keys=True)\n",
    "        # If we don't sort keys, we can't guarantee repeatability\n",
    "    if sys.version_info.major == 2:\n",
    "        return unicode(hashlib.sha256(msg).hexdigest(), 'utf-8')\n",
    "    else:\n",
    "        return hashlib.sha256(str(msg).encode('utf-8')).hexdigest()"
   ]
  },
  {
   "cell_type": "markdown",
   "metadata": {},
   "source": [
    "Next, we want to create a function to generate exchanges between John and Mary. We’ll indicate withdrawals with negative numbers, and deposits with positive numbers. We’ll construct our transactions to always be between the two users of our system, and make sure that the deposit is the same magnitude as the withdrawal- i.e. that we’re neither creating nor destroying money."
   ]
  },
  {
   "cell_type": "code",
   "execution_count": 15,
   "metadata": {},
   "outputs": [],
   "source": [
    "import random\n",
    "random.seed(0)\n",
    "\n",
    "def makeTransaction(maxValue=3):\n",
    "    # This will create valid transactions in the range of (1, maxValue)\n",
    "    sign = int(random.getrandbits(1))*2 - 1\n",
    "    # This will randomly choose -1 or 1\n",
    "    amount = random.randint(1, maxValue)\n",
    "    johnPays = sign * amount\n",
    "    maryPays = -1 * johnPays\n",
    "    # By construction, this will always return transactions that respect the conservation of tokens\n",
    "    # However, note that we have not done anything to check whether these overdraft an account\n",
    "    return {u'John':johnPays, u'Mary':maryPays}\n"
   ]
  },
  {
   "cell_type": "markdown",
   "metadata": {},
   "source": [
    "Now let’s create a large set of transactions, then chunk them into blocks."
   ]
  },
  {
   "cell_type": "code",
   "execution_count": 16,
   "metadata": {},
   "outputs": [],
   "source": [
    "txnBuffer = [makeTransaction() for i in range(30)]"
   ]
  },
  {
   "cell_type": "code",
   "execution_count": 4,
   "metadata": {},
   "outputs": [],
   "source": [
    "def updateState(txn, state):\n",
    "    # Inputs: txn, state: dictionaries keyed with account names, holding numeric values for transfer amount (txn) or account balance (state)\n",
    "    # Returns: Updated state, with additional users added to state if necessary\n",
    "    # NOTE: This does not not validate the transaction- just updates the state!\n",
    "    state = state.copy()\n",
    "    # As dictionaries are mutable, let's avoid any confusion by creating a working copy of the data\n",
    "    for key in txn:\n",
    "        if key in state.keys():\n",
    "            state[key] += txn[key]\n",
    "        else:\n",
    "            state[key] = txn[key]\n",
    "    return state"
   ]
  },
  {
   "cell_type": "code",
   "execution_count": 7,
   "metadata": {},
   "outputs": [],
   "source": [
    "def isValidTxn(txn, state):\n",
    "    # Assume that the transaction is a dictionary keyed by account names\n",
    "    # Check that the sum of the deposites and withdrawals is 0\n",
    "    if sum(txn.values())!=0:\n",
    "        return False\n",
    "    \n",
    "    # Check that the transaction does not cause an overdraft\n",
    "    for key in txn.keys():\n",
    "        if key in state.keys():\n",
    "            acctBalance = state[key]\n",
    "        else:\n",
    "            acctBalance = 0\n",
    "        if (acctBalance + txn[key]) < 0:\n",
    "            return False\n",
    "    return True"
   ]
  },
  {
   "cell_type": "code",
   "execution_count": 8,
   "metadata": {},
   "outputs": [
    {
     "name": "stdout",
     "output_type": "stream",
     "text": [
      "True\n",
      "False\n",
      "False\n",
      "True\n",
      "False\n"
     ]
    }
   ],
   "source": [
    "state = {u'John':5,u'Mary':5}\n",
    "\n",
    "print(isValidTxn({u'John': -3, u'Mary': 3},state))  # Basic transaction- this works great!\n",
    "print(isValidTxn({u'John': -4, u'Mary': 3},state))  # But we can't create or destroy tokens!\n",
    "print(isValidTxn({u'John': -6, u'Mary': 6},state))  # We also can't overdraft our account.\n",
    "print(isValidTxn({u'John': -4, u'Mary': 2,'Lisa':2},state)) # Creating new users is valid\n",
    "print(isValidTxn({u'John': -4, u'Mary': 3,'Lisa':2},state)) # But the same rules still apply!"
   ]
  },
  {
   "cell_type": "code",
   "execution_count": 10,
   "metadata": {},
   "outputs": [],
   "source": [
    "state = {u'John':50, u'Mary':50}\n",
    "# Define the initial state\n",
    "genesisBlockTxns = [state]\n",
    "genesisBlockContents = {u'blockNumber':0, u'parentHash':None, u'txnCount':1, u'txns':genesisBlockTxns}\n",
    "genesisHash = hashMe(genesisBlockContents)\n",
    "genesisBlock = {u'hash':genesisHash,u'contents':genesisBlockContents}\n",
    "genesisBlockStr = json.dumps(genesisBlock, sort_keys=True)"
   ]
  },
  {
   "cell_type": "code",
   "execution_count": 11,
   "metadata": {},
   "outputs": [],
   "source": [
    "chain = [genesisBlock]"
   ]
  },
  {
   "cell_type": "code",
   "execution_count": 12,
   "metadata": {},
   "outputs": [],
   "source": [
    "def makeBlock(txns, chain):\n",
    "    parentBlock = chain[-1]\n",
    "    parentHash = parentBlock[u'hash']\n",
    "    blockNumber = parentBlock[u'contents'][u'blockNumber'] + 1\n",
    "    txnCount = len(txns)\n",
    "    blockContents = {u'blockNumber':blockNumber, u'parentHash':parentHash, u'txnCount':len(txns), 'txns':txns}\n",
    "    blockHash = hashMe(blockContents)\n",
    "    block = {u'hash':blockHash, u'contents':blockContents}\n",
    "\n",
    "    return block"
   ]
  },
  {
   "cell_type": "code",
   "execution_count": 17,
   "metadata": {},
   "outputs": [],
   "source": [
    "blockSizeLimit = 5\n",
    "# Arbitrary number of transactions per block\n",
    "# this is chosen by the block miner, and can vary between blocks\n",
    "while len(txnBuffer) > 0:\n",
    "    bufferStartSize = len(txnBuffer)\n",
    "\n",
    "    # Gather a set of valid transactions for inclusion\n",
    "    txnList = []\n",
    "    while (len(txnBuffer) > 0) & (len(txnList) < blockSizeLimit):\n",
    "        newTxn = txnBuffer.pop()\n",
    "        validTxn = isValidTxn(newTxn, state)\n",
    "        # This will return False if txn is invalid\n",
    "        if validTxn:\n",
    "            txnList.append(newTxn)\n",
    "            state = updateState(newTxn, state)\n",
    "        else:\n",
    "            print(\"ignored transaction\")\n",
    "            sys.stdout.flush()\n",
    "            continue # This was an invalid transaction; ignore it and move on\n",
    "    myBlock = makeBlock(txnList, chain)\n",
    "    chain.append(myBlock)"
   ]
  },
  {
   "cell_type": "code",
   "execution_count": 18,
   "metadata": {},
   "outputs": [
    {
     "data": {
      "text/plain": [
       "{'hash': 'c33c4f338e7d9af4e27f5d9097c17811e8592653b6231056fe7bf9145f9dbb39',\n",
       " 'contents': {'blockNumber': 0,\n",
       "  'parentHash': None,\n",
       "  'txnCount': 1,\n",
       "  'txns': [{'John': 50, 'Mary': 50}]}}"
      ]
     },
     "execution_count": 18,
     "metadata": {},
     "output_type": "execute_result"
    }
   ],
   "source": [
    "chain[0]"
   ]
  },
  {
   "cell_type": "code",
   "execution_count": 19,
   "metadata": {},
   "outputs": [
    {
     "data": {
      "text/plain": [
       "{'hash': '1ac36126ff44b4340409e3ea0d7c4c9f7a745ea3a13824ccaa12d429edc6e336',\n",
       " 'contents': {'blockNumber': 1,\n",
       "  'parentHash': 'c33c4f338e7d9af4e27f5d9097c17811e8592653b6231056fe7bf9145f9dbb39',\n",
       "  'txnCount': 5,\n",
       "  'txns': [{'John': 3, 'Mary': -3},\n",
       "   {'John': -1, 'Mary': 1},\n",
       "   {'John': 3, 'Mary': -3},\n",
       "   {'John': -2, 'Mary': 2},\n",
       "   {'John': 3, 'Mary': -3}]}}"
      ]
     },
     "execution_count": 19,
     "metadata": {},
     "output_type": "execute_result"
    }
   ],
   "source": [
    "chain[1]"
   ]
  },
  {
   "cell_type": "code",
   "execution_count": 20,
   "metadata": {},
   "outputs": [
    {
     "data": {
      "text/plain": [
       "{'John': 72, 'Mary': 28}"
      ]
     },
     "execution_count": 20,
     "metadata": {},
     "output_type": "execute_result"
    }
   ],
   "source": [
    "state"
   ]
  },
  {
   "cell_type": "code",
   "execution_count": 21,
   "metadata": {},
   "outputs": [
    {
     "data": {
      "text/plain": [
       "7"
      ]
     },
     "execution_count": 21,
     "metadata": {},
     "output_type": "execute_result"
    }
   ],
   "source": [
    "len(chain)"
   ]
  },
  {
   "cell_type": "code",
   "execution_count": 22,
   "metadata": {},
   "outputs": [
    {
     "data": {
      "text/plain": [
       "{'hash': 'fa22ab8c250747b0c1154d4ec30c8d3408a23e0967a061b90cf3bf49e4e3d897',\n",
       " 'contents': {'blockNumber': 6,\n",
       "  'parentHash': '4cd838598c2153ca21fe15b491cdae82810599b141795e5c01b2cf3dbce87ab9',\n",
       "  'txnCount': 5,\n",
       "  'txns': [{'John': -2, 'Mary': 2},\n",
       "   {'John': 3, 'Mary': -3},\n",
       "   {'John': -2, 'Mary': 2},\n",
       "   {'John': 2, 'Mary': -2},\n",
       "   {'John': 2, 'Mary': -2}]}}"
      ]
     },
     "execution_count": 22,
     "metadata": {},
     "output_type": "execute_result"
    }
   ],
   "source": [
    "chain[6]"
   ]
  },
  {
   "cell_type": "code",
   "execution_count": 23,
   "metadata": {},
   "outputs": [
    {
     "data": {
      "text/plain": [
       "{'hash': '4cd838598c2153ca21fe15b491cdae82810599b141795e5c01b2cf3dbce87ab9',\n",
       " 'contents': {'blockNumber': 5,\n",
       "  'parentHash': 'f3115265bd16db0df3e672baeee7037767bded897d45b1fce82e0db31ad988ab',\n",
       "  'txnCount': 5,\n",
       "  'txns': [{'John': 1, 'Mary': -1},\n",
       "   {'John': 1, 'Mary': -1},\n",
       "   {'John': -3, 'Mary': 3},\n",
       "   {'John': 2, 'Mary': -2},\n",
       "   {'John': 2, 'Mary': -2}]}}"
      ]
     },
     "execution_count": 23,
     "metadata": {},
     "output_type": "execute_result"
    }
   ],
   "source": [
    "chain[5]"
   ]
  },
  {
   "cell_type": "code",
   "execution_count": 24,
   "metadata": {},
   "outputs": [],
   "source": [
    "def checkBlockHash(block):\n",
    "    # Raise an exception if the hash does not match the block contents\n",
    "    expectedHash = hashMe(block['contents'])\n",
    "    if block['hash']!=expectedHash:\n",
    "        raise Exception('Hash does not match contents of block %s'%block['contents']['blockNumber'])\n",
    "    return"
   ]
  },
  {
   "cell_type": "code",
   "execution_count": 25,
   "metadata": {},
   "outputs": [],
   "source": [
    "def checkBlockValidity(block, parent, state):\n",
    "    # We want to check the following conditions:\n",
    "    # - Each of the transactions are valid updates to the system state\n",
    "    # - Block has is valid for the block contents\n",
    "    # - Block number increments the parent block number by 1\n",
    "    # - Accurately references the parent block's hash\n",
    "    parentNumber = parent['contents']['blockNumber']\n",
    "    parentHash = parent['hash']\n",
    "    blockNumber = block['contents']['blockNumber']\n",
    "\n",
    "    # Check transaction validity; throw an error if an invalid transaction was found\n",
    "    for txn in block['contents']['txns']:\n",
    "        if isValidTxn(txn, state):\n",
    "            state = updateState(txn, state)\n",
    "        else:\n",
    "            raise Exception('Invalid transaction in block %s: %s'%(blockNumber, txn))\n",
    "    checkBlockHash(block) # Check hash integrity; raises error if inaccurate\n",
    "\n",
    "    if blockNumber!=(parentNumber+1):\n",
    "        raise Exception('Hash does not match contents of block %s'%blockNumber)\n",
    "    if block['contents']['parentHash']!=parentHash:\n",
    "        raise Exception('Parent hash not accurate at block %s'%blockNumber)\n",
    "    return state"
   ]
  },
  {
   "cell_type": "code",
   "execution_count": 26,
   "metadata": {},
   "outputs": [],
   "source": [
    "def checkChain(chain):\n",
    "    # Work through the chain from the genesis block (which gets special treatment),\n",
    "    # checking that all transactions are internally valid,\n",
    "    # that the transactions do not cause an overdraft,\n",
    "    # and that the blocks are linked by their hashes.\n",
    "    # This returns the state as a dictionary of accounts and balances,\n",
    "    # or returns False if an error was detected\n",
    "\n",
    "    ##Data input processing: Make sure that our chain is a list of dicts\n",
    "    if type(chain) == str:\n",
    "        try:\n",
    "            chain = json.loads(chain)\n",
    "            assert(type(chain)==list)\n",
    "        except: # This is a catch-all, admittedly crude\n",
    "            return False\n",
    "    elif type(chain)!=list:\n",
    "        return False\n",
    "\n",
    "    state = {}\n",
    "    ## Prime the pump by checking the genesis block\n",
    "    # We want to check the following conditions:\n",
    "    # - Each of the transactions are valid updates to the system state\n",
    "    # - Block hash is valid for the block contents\n",
    "\n",
    "    for txn in chain[0]['contents']['txns']:\n",
    "        state = updateState(txn, state)\n",
    "    checkBlockHash(chain[0])\n",
    "    parent = chain[0]\n",
    "\n",
    "    ## Checking subsequent blocks: These additionally need to check\n",
    "    # - the reference to the parent block's hash\n",
    "    # - the validity of the block number\n",
    "    for block in chain[1:]:\n",
    "        state = checkBlockValidity(block, parent, state)\n",
    "        parent = block\n",
    "    return state"
   ]
  },
  {
   "cell_type": "code",
   "execution_count": 27,
   "metadata": {},
   "outputs": [
    {
     "data": {
      "text/plain": [
       "{'John': 72, 'Mary': 28}"
      ]
     },
     "execution_count": 27,
     "metadata": {},
     "output_type": "execute_result"
    }
   ],
   "source": [
    "checkChain(chain)"
   ]
  },
  {
   "cell_type": "code",
   "execution_count": 28,
   "metadata": {},
   "outputs": [
    {
     "data": {
      "text/plain": [
       "{'John': 72, 'Mary': 28}"
      ]
     },
     "execution_count": 28,
     "metadata": {},
     "output_type": "execute_result"
    }
   ],
   "source": [
    "chainAsText = json.dumps(chain,sort_keys=True)\n",
    "checkChain(chainAsText)"
   ]
  },
  {
   "cell_type": "code",
   "execution_count": 29,
   "metadata": {},
   "outputs": [],
   "source": [
    "import copy\n",
    "nodeBchain = copy.copy(chain)\n",
    "nodeBtxns = [makeTransaction() for i in range(5)]\n",
    "newBlock = makeBlock(nodeBtxns, nodeBchain)"
   ]
  },
  {
   "cell_type": "code",
   "execution_count": 30,
   "metadata": {},
   "outputs": [
    {
     "name": "stdout",
     "output_type": "stream",
     "text": [
      "Blockchain on Node A is currently 7 blocks long\n",
      "New Block Received; checking validity...\n",
      "Blockchain on Node A is not 8 blocks long\n"
     ]
    }
   ],
   "source": [
    "print(\"Blockchain on Node A is currently %s blocks long\"%len(chain))\n",
    "try:\n",
    "    print(\"New Block Received; checking validity...\")\n",
    "    state = checkBlockValidity(newBlock, chain[-1], state)\n",
    "    # Update the state- this will throw an error if the block is invalid\n",
    "    chain.append(newBlock)\n",
    "except:\n",
    "    print(\"Invalid block; ignoring and waiting for the next block...\")\n",
    "\n",
    "print(\"Blockchain on Node A is not %s blocks long\"%len(chain))"
   ]
  }
 ],
 "metadata": {
  "kernelspec": {
   "display_name": "Python 3",
   "language": "python",
   "name": "python3"
  },
  "language_info": {
   "codemirror_mode": {
    "name": "ipython",
    "version": 3
   },
   "file_extension": ".py",
   "mimetype": "text/x-python",
   "name": "python",
   "nbconvert_exporter": "python",
   "pygments_lexer": "ipython3",
   "version": "3.9.6"
  }
 },
 "nbformat": 4,
 "nbformat_minor": 2
}
